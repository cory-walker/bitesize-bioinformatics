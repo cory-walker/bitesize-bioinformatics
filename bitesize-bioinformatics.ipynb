{
 "metadata": {
  "language_info": {
   "codemirror_mode": {
    "name": "ipython",
    "version": 3
   },
   "file_extension": ".py",
   "mimetype": "text/x-python",
   "name": "python",
   "nbconvert_exporter": "python",
   "pygments_lexer": "ipython3",
   "version": "3.9.4"
  },
  "orig_nbformat": 2,
  "kernelspec": {
   "name": "python394jvsc74a57bd02647ea34e536f865ab67ff9ddee7fd78773d956cec0cab53c79b32cd10da5d83",
   "display_name": "Python 3.9.4 64-bit"
  }
 },
 "nbformat": 4,
 "nbformat_minor": 2,
 "cells": [
  {
   "source": [
    "## A Journey into bioinformatics\n",
    "Original tutorial I followed while developing this notebook: <a href=\"https://www.youtube.com/watch?v=jBlTQjcKuaY\">Python for Bioinformatics - Drug Discovery Using Machine Learning and Data Analysis</a><br>\n",
    "## Data collection - <a href=\"https://www.ebi.ac.uk/chembl/\">ChEMBL Database</a>\n",
    "The ChEMBL Database is a database containing curated bioactivity data for more than 2 million compounds and was compiled with over 76,000 documents, 1.2 million essays and the data spans 13,000 targets and 1,800 cells and 33,000 indications (version 26)<br>\n",
    "### Import section"
   ],
   "cell_type": "markdown",
   "metadata": {}
  },
  {
   "cell_type": "code",
   "execution_count": 2,
   "metadata": {},
   "outputs": [],
   "source": [
    "# You may need to: pip install chembl_webresource_client\n",
    "\n",
    "import pandas as pd \n",
    "import os\n",
    "\n",
    "from chembl_webresource_client.new_client import new_client"
   ]
  },
  {
   "source": [
    "### Search for a target protein\n",
    "Acetylcholinesterase in this case. Specifically the single protein target_type for the Homo sapien organism"
   ],
   "cell_type": "markdown",
   "metadata": {}
  },
  {
   "cell_type": "code",
   "execution_count": 3,
   "metadata": {},
   "outputs": [
    {
     "output_type": "execute_result",
     "data": {
      "text/plain": [
       "                                    cross_references      organism  \\\n",
       "0  [{'xref_id': 'P22303', 'xref_name': None, 'xre...  Homo sapiens   \n",
       "\n",
       "              pref_name  score  species_group_flag target_chembl_id  \\\n",
       "0  Acetylcholinesterase   27.0               False        CHEMBL220   \n",
       "\n",
       "                                   target_components     target_type  tax_id  \n",
       "0  [{'accession': 'P22303', 'component_descriptio...  SINGLE PROTEIN    9606  "
      ],
      "text/html": "<div>\n<style scoped>\n    .dataframe tbody tr th:only-of-type {\n        vertical-align: middle;\n    }\n\n    .dataframe tbody tr th {\n        vertical-align: top;\n    }\n\n    .dataframe thead th {\n        text-align: right;\n    }\n</style>\n<table border=\"1\" class=\"dataframe\">\n  <thead>\n    <tr style=\"text-align: right;\">\n      <th></th>\n      <th>cross_references</th>\n      <th>organism</th>\n      <th>pref_name</th>\n      <th>score</th>\n      <th>species_group_flag</th>\n      <th>target_chembl_id</th>\n      <th>target_components</th>\n      <th>target_type</th>\n      <th>tax_id</th>\n    </tr>\n  </thead>\n  <tbody>\n    <tr>\n      <th>0</th>\n      <td>[{'xref_id': 'P22303', 'xref_name': None, 'xre...</td>\n      <td>Homo sapiens</td>\n      <td>Acetylcholinesterase</td>\n      <td>27.0</td>\n      <td>False</td>\n      <td>CHEMBL220</td>\n      <td>[{'accession': 'P22303', 'component_descriptio...</td>\n      <td>SINGLE PROTEIN</td>\n      <td>9606</td>\n    </tr>\n  </tbody>\n</table>\n</div>"
     },
     "metadata": {},
     "execution_count": 3
    }
   ],
   "source": [
    "qry = new_client.target.search(\"acetylcholinesterase\")\n",
    "dfsearch = pd.DataFrame(qry)\n",
    "dfsearch[(dfsearch['organism']=='Homo sapiens') & (dfsearch['target_type']=='SINGLE PROTEIN')]"
   ]
  },
  {
   "source": [
    "Now we will aquire the bioactivity for Human Acetylcholinesterase that are reported as pChEMBL values"
   ],
   "cell_type": "markdown",
   "metadata": {}
  },
  {
   "cell_type": "code",
   "execution_count": 11,
   "metadata": {},
   "outputs": [
    {
     "output_type": "execute_result",
     "data": {
      "text/plain": [
       "  activity_comment  activity_id activity_properties assay_chembl_id  \\\n",
       "0              NaN        33969                  []    CHEMBL643384   \n",
       "1              NaN        37563                  []    CHEMBL643384   \n",
       "2              NaN        37565                  []    CHEMBL643384   \n",
       "3              NaN        38902                  []    CHEMBL643384   \n",
       "4              NaN        41170                  []    CHEMBL643384   \n",
       "\n",
       "                                   assay_description assay_type  \\\n",
       "0  Inhibitory concentration against acetylcholine...          B   \n",
       "1  Inhibitory concentration against acetylcholine...          B   \n",
       "2  Inhibitory concentration against acetylcholine...          B   \n",
       "3  Inhibitory concentration against acetylcholine...          B   \n",
       "4  Inhibitory concentration against acetylcholine...          B   \n",
       "\n",
       "   assay_variant_accession  assay_variant_mutation bao_endpoint   bao_format  \\\n",
       "0                      NaN                     NaN  BAO_0000190  BAO_0000357   \n",
       "1                      NaN                     NaN  BAO_0000190  BAO_0000357   \n",
       "2                      NaN                     NaN  BAO_0000190  BAO_0000357   \n",
       "3                      NaN                     NaN  BAO_0000190  BAO_0000357   \n",
       "4                      NaN                     NaN  BAO_0000190  BAO_0000357   \n",
       "\n",
       "   ... target_organism      target_pref_name target_tax_id text_value toid  \\\n",
       "0  ...    Homo sapiens  Acetylcholinesterase          9606        NaN  NaN   \n",
       "1  ...    Homo sapiens  Acetylcholinesterase          9606        NaN  NaN   \n",
       "2  ...    Homo sapiens  Acetylcholinesterase          9606        NaN  NaN   \n",
       "3  ...    Homo sapiens  Acetylcholinesterase          9606        NaN  NaN   \n",
       "4  ...    Homo sapiens  Acetylcholinesterase          9606        NaN  NaN   \n",
       "\n",
       "   type  units    uo_units upper_value  value  \n",
       "0  IC50     uM  UO_0000065         NaN   0.75  \n",
       "1  IC50     uM  UO_0000065         NaN   0.10  \n",
       "2  IC50     uM  UO_0000065         NaN  50.00  \n",
       "3  IC50     uM  UO_0000065         NaN   0.30  \n",
       "4  IC50     uM  UO_0000065         NaN   0.80  \n",
       "\n",
       "[5 rows x 45 columns]"
      ],
      "text/html": "<div>\n<style scoped>\n    .dataframe tbody tr th:only-of-type {\n        vertical-align: middle;\n    }\n\n    .dataframe tbody tr th {\n        vertical-align: top;\n    }\n\n    .dataframe thead th {\n        text-align: right;\n    }\n</style>\n<table border=\"1\" class=\"dataframe\">\n  <thead>\n    <tr style=\"text-align: right;\">\n      <th></th>\n      <th>activity_comment</th>\n      <th>activity_id</th>\n      <th>activity_properties</th>\n      <th>assay_chembl_id</th>\n      <th>assay_description</th>\n      <th>assay_type</th>\n      <th>assay_variant_accession</th>\n      <th>assay_variant_mutation</th>\n      <th>bao_endpoint</th>\n      <th>bao_format</th>\n      <th>...</th>\n      <th>target_organism</th>\n      <th>target_pref_name</th>\n      <th>target_tax_id</th>\n      <th>text_value</th>\n      <th>toid</th>\n      <th>type</th>\n      <th>units</th>\n      <th>uo_units</th>\n      <th>upper_value</th>\n      <th>value</th>\n    </tr>\n  </thead>\n  <tbody>\n    <tr>\n      <th>0</th>\n      <td>NaN</td>\n      <td>33969</td>\n      <td>[]</td>\n      <td>CHEMBL643384</td>\n      <td>Inhibitory concentration against acetylcholine...</td>\n      <td>B</td>\n      <td>NaN</td>\n      <td>NaN</td>\n      <td>BAO_0000190</td>\n      <td>BAO_0000357</td>\n      <td>...</td>\n      <td>Homo sapiens</td>\n      <td>Acetylcholinesterase</td>\n      <td>9606</td>\n      <td>NaN</td>\n      <td>NaN</td>\n      <td>IC50</td>\n      <td>uM</td>\n      <td>UO_0000065</td>\n      <td>NaN</td>\n      <td>0.75</td>\n    </tr>\n    <tr>\n      <th>1</th>\n      <td>NaN</td>\n      <td>37563</td>\n      <td>[]</td>\n      <td>CHEMBL643384</td>\n      <td>Inhibitory concentration against acetylcholine...</td>\n      <td>B</td>\n      <td>NaN</td>\n      <td>NaN</td>\n      <td>BAO_0000190</td>\n      <td>BAO_0000357</td>\n      <td>...</td>\n      <td>Homo sapiens</td>\n      <td>Acetylcholinesterase</td>\n      <td>9606</td>\n      <td>NaN</td>\n      <td>NaN</td>\n      <td>IC50</td>\n      <td>uM</td>\n      <td>UO_0000065</td>\n      <td>NaN</td>\n      <td>0.10</td>\n    </tr>\n    <tr>\n      <th>2</th>\n      <td>NaN</td>\n      <td>37565</td>\n      <td>[]</td>\n      <td>CHEMBL643384</td>\n      <td>Inhibitory concentration against acetylcholine...</td>\n      <td>B</td>\n      <td>NaN</td>\n      <td>NaN</td>\n      <td>BAO_0000190</td>\n      <td>BAO_0000357</td>\n      <td>...</td>\n      <td>Homo sapiens</td>\n      <td>Acetylcholinesterase</td>\n      <td>9606</td>\n      <td>NaN</td>\n      <td>NaN</td>\n      <td>IC50</td>\n      <td>uM</td>\n      <td>UO_0000065</td>\n      <td>NaN</td>\n      <td>50.00</td>\n    </tr>\n    <tr>\n      <th>3</th>\n      <td>NaN</td>\n      <td>38902</td>\n      <td>[]</td>\n      <td>CHEMBL643384</td>\n      <td>Inhibitory concentration against acetylcholine...</td>\n      <td>B</td>\n      <td>NaN</td>\n      <td>NaN</td>\n      <td>BAO_0000190</td>\n      <td>BAO_0000357</td>\n      <td>...</td>\n      <td>Homo sapiens</td>\n      <td>Acetylcholinesterase</td>\n      <td>9606</td>\n      <td>NaN</td>\n      <td>NaN</td>\n      <td>IC50</td>\n      <td>uM</td>\n      <td>UO_0000065</td>\n      <td>NaN</td>\n      <td>0.30</td>\n    </tr>\n    <tr>\n      <th>4</th>\n      <td>NaN</td>\n      <td>41170</td>\n      <td>[]</td>\n      <td>CHEMBL643384</td>\n      <td>Inhibitory concentration against acetylcholine...</td>\n      <td>B</td>\n      <td>NaN</td>\n      <td>NaN</td>\n      <td>BAO_0000190</td>\n      <td>BAO_0000357</td>\n      <td>...</td>\n      <td>Homo sapiens</td>\n      <td>Acetylcholinesterase</td>\n      <td>9606</td>\n      <td>NaN</td>\n      <td>NaN</td>\n      <td>IC50</td>\n      <td>uM</td>\n      <td>UO_0000065</td>\n      <td>NaN</td>\n      <td>0.80</td>\n    </tr>\n  </tbody>\n</table>\n<p>5 rows × 45 columns</p>\n</div>"
     },
     "metadata": {},
     "execution_count": 11
    }
   ],
   "source": [
    "chembl_id = dfsearch['target_chembl_id'][0]\n",
    "csv_name = \"bioactivity_\"+chembl_id +\"_raw.csv\"\n",
    "\n",
    "# If we don't already have the file, then download it\n",
    "if not os.path.exists(csv_name):\n",
    "    activity = new_client.activity\n",
    "    res = activity.filter(target_chembl_id=chembl_id).filter(standard_type=\"IC50\")\n",
    "    df = pd.DataFrame(res)\n",
    "    df.to_csv(csv_name, index=False)\n",
    "else:\n",
    "    df = pd.read_csv(csv_name)\n",
    "df.head()"
   ]
  },
  {
   "source": [
    "### Wrangling section\n",
    "<ul><li>Keep only the necessary columns</li>\n",
    "<li>Drop nulls</li>\n",
    "<li>Drop dupes</li>\n",
    "<li>Add a \"Class\" feature</li>\n",
    "</ul>"
   ],
   "cell_type": "markdown",
   "metadata": {}
  },
  {
   "cell_type": "code",
   "execution_count": 23,
   "metadata": {},
   "outputs": [
    {
     "output_type": "execute_result",
     "data": {
      "text/plain": [
       "  molecule_chembl_id                                   canonical_smiles  \\\n",
       "0       CHEMBL133897              CCOc1nn(-c2cccc(OCc3ccccc3)c2)c(=O)o1   \n",
       "1       CHEMBL336398         O=C(N1CCCCC1)n1nc(-c2ccc(Cl)cc2)nc1SCC1CC1   \n",
       "2       CHEMBL131588  CN(C(=O)n1nc(-c2ccc(Cl)cc2)nc1SCC(F)(F)F)c1ccccc1   \n",
       "3       CHEMBL130628      O=C(N1CCCCC1)n1nc(-c2ccc(Cl)cc2)nc1SCC(F)(F)F   \n",
       "4       CHEMBL130478          CSc1nc(-c2ccc(OC(F)(F)F)cc2)nn1C(=O)N(C)C   \n",
       "\n",
       "   standard_value     class  \n",
       "0           750.0    active  \n",
       "1           100.0    active  \n",
       "2         50000.0  inactive  \n",
       "3           300.0    active  \n",
       "4           800.0    active  "
      ],
      "text/html": "<div>\n<style scoped>\n    .dataframe tbody tr th:only-of-type {\n        vertical-align: middle;\n    }\n\n    .dataframe tbody tr th {\n        vertical-align: top;\n    }\n\n    .dataframe thead th {\n        text-align: right;\n    }\n</style>\n<table border=\"1\" class=\"dataframe\">\n  <thead>\n    <tr style=\"text-align: right;\">\n      <th></th>\n      <th>molecule_chembl_id</th>\n      <th>canonical_smiles</th>\n      <th>standard_value</th>\n      <th>class</th>\n    </tr>\n  </thead>\n  <tbody>\n    <tr>\n      <th>0</th>\n      <td>CHEMBL133897</td>\n      <td>CCOc1nn(-c2cccc(OCc3ccccc3)c2)c(=O)o1</td>\n      <td>750.0</td>\n      <td>active</td>\n    </tr>\n    <tr>\n      <th>1</th>\n      <td>CHEMBL336398</td>\n      <td>O=C(N1CCCCC1)n1nc(-c2ccc(Cl)cc2)nc1SCC1CC1</td>\n      <td>100.0</td>\n      <td>active</td>\n    </tr>\n    <tr>\n      <th>2</th>\n      <td>CHEMBL131588</td>\n      <td>CN(C(=O)n1nc(-c2ccc(Cl)cc2)nc1SCC(F)(F)F)c1ccccc1</td>\n      <td>50000.0</td>\n      <td>inactive</td>\n    </tr>\n    <tr>\n      <th>3</th>\n      <td>CHEMBL130628</td>\n      <td>O=C(N1CCCCC1)n1nc(-c2ccc(Cl)cc2)nc1SCC(F)(F)F</td>\n      <td>300.0</td>\n      <td>active</td>\n    </tr>\n    <tr>\n      <th>4</th>\n      <td>CHEMBL130478</td>\n      <td>CSc1nc(-c2ccc(OC(F)(F)F)cc2)nn1C(=O)N(C)C</td>\n      <td>800.0</td>\n      <td>active</td>\n    </tr>\n  </tbody>\n</table>\n</div>"
     },
     "metadata": {},
     "execution_count": 23
    }
   ],
   "source": [
    "def classify_standard_value(x):\n",
    "    ''' INPUTS: x: the standard value of the molecule\n",
    "        OUTPUTS: the \"class\" as per the standard value range'''\n",
    "    x = float(x)\n",
    "    if x >= 10000:\n",
    "        return \"inactive\"\n",
    "    elif x > 1000:\n",
    "        return \"intermediate\"\n",
    "    return \"active\"\n",
    "\n",
    "dfc = df[[\"molecule_chembl_id\",\"canonical_smiles\",\"standard_value\"]].copy()\n",
    "dfc.dropna(axis=0,how=\"any\", subset=[\"standard_value\",\"canonical_smiles\"], inplace=True)\n",
    "dfc.drop_duplicates([\"canonical_smiles\"], inplace=True)\n",
    "dfc['class'] = dfc['standard_value'].apply(lambda x: classify_standard_value(x))\n",
    "dfc.to_csv(\"bioactivity_\"+chembl_id +\"_clean.csv\", index=False)\n",
    "dfc.head()"
   ]
  },
  {
   "cell_type": "code",
   "execution_count": null,
   "metadata": {},
   "outputs": [],
   "source": []
  }
 ]
}